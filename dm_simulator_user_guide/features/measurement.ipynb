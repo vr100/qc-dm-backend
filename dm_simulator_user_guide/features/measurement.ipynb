{
 "cells": [
  {
   "cell_type": "markdown",
   "metadata": {},
   "source": [
    "# Measurements \n",
    "***"
   ]
  },
  {
   "cell_type": "markdown",
   "metadata": {},
   "source": [
    "Original qiskit only allow measurement along computational basis. But while using dm_simulator a plethora of measurement options can be set as decribed below."
   ]
  },
  {
   "cell_type": "markdown",
   "metadata": {},
   "source": [
    "#### Available Options\n",
    "1. single gate measure in any basis\n",
    "2. Bell basis measurement\n",
    "3. Ensemble Measurement\n",
    "4. Expectation Measurement"
   ]
  },
  {
   "cell_type": "code",
   "execution_count": 4,
   "metadata": {},
   "outputs": [],
   "source": [
    "from qiskit import *\n",
    "import numpy as np\n",
    "%matplotlib inline"
   ]
  },
  {
   "cell_type": "markdown",
   "metadata": {},
   "source": [
    "### Measurement in any basis"
   ]
  },
  {
   "cell_type": "markdown",
   "metadata": {},
   "source": [
    "#### Example 1 : Measurement in 'X' basis"
   ]
  },
  {
   "cell_type": "code",
   "execution_count": 2,
   "metadata": {},
   "outputs": [
    {
     "data": {
      "text/plain": [
       "array([[0.5+0.j, 0. +0.j],\n",
       "       [0. +0.j, 0.5+0.j]])"
      ]
     },
     "execution_count": 2,
     "metadata": {},
     "output_type": "execute_result"
    }
   ],
   "source": [
    "qc = QuantumCircuit(1,1)\n",
    "qc.s(0)\n",
    "qc.measure(0,0,basis='X')\n",
    "backend = BasicAer.get_backend('dm_simulator')\n",
    "run = execute(qc,backend)\n",
    "result = run.result()\n",
    "result['results'][0]['data']['densitymatrix']"
   ]
  },
  {
   "cell_type": "markdown",
   "metadata": {},
   "source": [
    "#### Example 2 : Arbitrary basis"
   ]
  },
  {
   "cell_type": "code",
   "execution_count": 2,
   "metadata": {},
   "outputs": [
    {
     "name": "stderr",
     "output_type": "stream",
     "text": [
      "Given direction for the measurement was not normalised. It has been normalised to be unit vector!!\n"
     ]
    },
    {
     "data": {
      "text/plain": [
       "array([[0.82142857+0.j        , 0.10714286-0.21428571j],\n",
       "       [0.10714286+0.21428571j, 0.17857143+0.j        ]])"
      ]
     },
     "execution_count": 2,
     "metadata": {},
     "output_type": "execute_result"
    }
   ],
   "source": [
    "qc1 = QuantumCircuit(1,1)\n",
    "qc1.s(0)\n",
    "qc1.measure(0,0, basis='N', add_param=np.array([1,2,3]))         \n",
    "backend = BasicAer.get_backend('dm_simulator')\n",
    "run1 = execute(qc1,backend)\n",
    "result1 = run1.result()\n",
    "result1['results'][0]['data']['densitymatrix']"
   ]
  },
  {
   "cell_type": "markdown",
   "metadata": {},
   "source": [
    "### Bell basis measurement\n",
    "Measurement in the Bell basis $$\\{\\frac{|00\\rangle + |11\\rangle}{\\sqrt(2)}, \\frac{|00\\rangle - |11\\rangle}{\\sqrt(2)}, \\frac{|01\\rangle + |10\\rangle}{\\sqrt(2)},\\frac{|01\\rangle - |10\\rangle}{\\sqrt(2)}\\}$$"
   ]
  },
  {
   "cell_type": "code",
   "execution_count": 2,
   "metadata": {},
   "outputs": [
    {
     "data": {
      "text/plain": [
       "{'Bell_1': 0.5, 'Bell_2': 0.5, 'Bell_3': 0.0, 'Bell_4': 0.0}"
      ]
     },
     "execution_count": 2,
     "metadata": {},
     "output_type": "execute_result"
    }
   ],
   "source": [
    "qc2 = QuantumCircuit(3,2)\n",
    "qc2.measure(0,0,basis='Bell',add_param='01')\n",
    "options2 = {\n",
    "    'plot': True\n",
    "}\n",
    "backend = BasicAer.get_backend('dm_simulator')\n",
    "run2 = execute(qc2,backend,**options2)\n",
    "result2 = run2.result()\n",
    "result2['results'][0]['data']['bell_probabilities01']"
   ]
  },
  {
   "cell_type": "markdown",
   "metadata": {},
   "source": [
    "### Ensemble Measurement\n",
    "Ensemble measurement is used to check the states of all the qubits at once. This measurement doesnot change the densitymatrix rather prints out the probabilities of neasurement."
   ]
  },
  {
   "cell_type": "code",
   "execution_count": 7,
   "metadata": {},
   "outputs": [
    {
     "data": {
      "text/plain": [
       "{'000': 0.25,\n",
       " '001': 0.0,\n",
       " '010': 0.0,\n",
       " '011': 0.25,\n",
       " '100': 0.0,\n",
       " '101': 0.25,\n",
       " '110': 0.25,\n",
       " '111': 0.0}"
      ]
     },
     "execution_count": 7,
     "metadata": {},
     "output_type": "execute_result"
    }
   ],
   "source": [
    "qc3 = QuantumCircuit(3,3)\n",
    "qc3.h(0)\n",
    "qc3.cx(0,1)\n",
    "qc3.cx(1,2)\n",
    "qc3.measure(0,0,basis='Ensemble',add_param='X')\n",
    "backend = BasicAer.get_backend('dm_simulator')\n",
    "options3 = {\n",
    "    'plot': True\n",
    "}\n",
    "run3 = execute(qc3,backend,**options3)\n",
    "result3 = run3.result()\n",
    "result3['results'][0]['data']['ensemble_probability']"
   ]
  },
  {
   "cell_type": "markdown",
   "metadata": {},
   "source": [
    "### Expectation Measure\n",
    "Gives back the expectation value of a string of operators from {I,X,Y,Z} (Pauli Operators)"
   ]
  },
  {
   "cell_type": "code",
   "execution_count": 19,
   "metadata": {},
   "outputs": [
    {
     "data": {
      "text/plain": [
       "1.0"
      ]
     },
     "execution_count": 19,
     "metadata": {},
     "output_type": "execute_result"
    }
   ],
   "source": [
    "qc4 = QuantumCircuit(3,3)\n",
    "qc4.h(0)\n",
    "qc4.cx(0,1)\n",
    "qc4.cx(1,2)\n",
    "qc4.measure(0,0,basis='Expect',add_param='ZIZ')\n",
    "backend = BasicAer.get_backend('dm_simulator')\n",
    "run4 = execute(qc4,backend)\n",
    "result4 = run4.result()\n",
    "result4['results'][0]['data']['Pauli_string_expectation']"
   ]
  }
 ],
 "metadata": {
  "kernelspec": {
   "display_name": "Python 3",
   "language": "python",
   "name": "python3"
  },
  "language_info": {
   "codemirror_mode": {
    "name": "ipython",
    "version": 3
   },
   "file_extension": ".py",
   "mimetype": "text/x-python",
   "name": "python",
   "nbconvert_exporter": "python",
   "pygments_lexer": "ipython3",
   "version": "3.7.3"
  }
 },
 "nbformat": 4,
 "nbformat_minor": 4
}
