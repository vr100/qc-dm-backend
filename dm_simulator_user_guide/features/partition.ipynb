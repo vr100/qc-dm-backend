{
 "cells": [
  {
   "cell_type": "markdown",
   "metadata": {},
   "source": [
    "## Partition\n",
    "***"
   ]
  },
  {
   "cell_type": "markdown",
   "metadata": {},
   "source": [
    "Before applying gates and measurement instructions, partitions are created. Each partition are to be executed sequentially and instructions inside a partition can be computed in parallel."
   ]
  },
  {
   "cell_type": "code",
   "execution_count": 2,
   "metadata": {},
   "outputs": [],
   "source": [
    "from qiskit import *"
   ]
  },
  {
   "cell_type": "markdown",
   "metadata": {},
   "source": [
    "#### Example 1 : Showing Partition"
   ]
  },
  {
   "cell_type": "code",
   "execution_count": 2,
   "metadata": {},
   "outputs": [
    {
     "name": "stderr",
     "output_type": "stream",
     "text": [
      "No measurements in circuit \"circuit0\", classical register will remain all zeros.\n"
     ]
    },
    {
     "name": "stdout",
     "output_type": "stream",
     "text": [
      "\n",
      "PARTITIONED CIRCUIT\n",
      "\n",
      "Partition  0\n",
      "U1    qubit [0]      [3.6]\n",
      "U3    qubit [2]      [3.141593, 1.570796, 5.741593]\n",
      "\n",
      "Partition  1\n",
      "C-NOT    qubit [0, 1]\n",
      "\n",
      "Partition  2\n",
      "C-NOT    qubit [1, 0]\n"
     ]
    }
   ],
   "source": [
    "q = QuantumRegister(3)\n",
    "c = ClassicalRegister(3)\n",
    "qc = QuantumCircuit(q,c)\n",
    "qc.u1(3.6,0)\n",
    "qc.cx(0,1)\n",
    "qc.u1(2.6,2)\n",
    "qc.cx(1,0)\n",
    "qc.s(2)\n",
    "qc.y(2)\n",
    "backend = BasicAer.get_backend('dm_simulator')\n",
    "options = {\n",
    "    'show_partition': True\n",
    "}\n",
    "run = execute(qc,backend,**options)"
   ]
  },
  {
   "cell_type": "markdown",
   "metadata": {},
   "source": [
    "#### Example 2\n",
    "Measurements are considered in a separate partition. Among measurements, {'Ensemble','Expect','Bell'} are treated separately."
   ]
  },
  {
   "cell_type": "code",
   "execution_count": 3,
   "metadata": {},
   "outputs": [
    {
     "name": "stdout",
     "output_type": "stream",
     "text": [
      "\n",
      "PARTITIONED CIRCUIT\n",
      "\n",
      "Partition  0\n",
      "U1    qubit [0]      [3.6]\n",
      "U3    qubit [2]      [3.141593, 1.570796, 5.741593]\n",
      "\n",
      "Partition  1\n",
      "C-NOT    qubit [0, 1]\n",
      "\n",
      "Partition  2\n",
      "measure    qubit [0]      [Y]\n",
      "measure    qubit [1]      [X]\n",
      "\n",
      "Partition  3\n",
      "C-NOT    qubit [1, 0]\n",
      "\n",
      "Partition  4\n",
      "measure    qubit [1]      [Bell, 12]\n",
      "\n",
      "Partition  5\n",
      "measure    qubit [0]      ['Z']\n",
      "\n",
      "Partition  6\n",
      "measure    qubit [0]      [Ensemble, X]\n",
      "measure    qubit [1]      [Ensemble, X]\n",
      "measure    qubit [2]      [Ensemble, X]\n"
     ]
    }
   ],
   "source": [
    "q = QuantumRegister(3)\n",
    "c = ClassicalRegister(3)\n",
    "qc = QuantumCircuit(q,c)\n",
    "qc.u1(3.6,0)\n",
    "qc.cx(0,1)\n",
    "qc.u1(2.6,2)\n",
    "qc.measure(1,1,basis='X')\n",
    "qc.measure(0,0,basis='Y')\n",
    "qc.cx(1,0)\n",
    "qc.s(2)\n",
    "qc.y(2)\n",
    "qc.measure(1,1,basis='Bell',add_param='12')\n",
    "qc.measure(0,0)\n",
    "qc.measure(q,c,basis='Ensemble',add_param='X')\n",
    "backend = BasicAer.get_backend('dm_simulator')\n",
    "options = {\n",
    "    'show_partition': True\n",
    "}\n",
    "run = execute(qc,backend,**options)"
   ]
  }
 ],
 "metadata": {
  "kernelspec": {
   "display_name": "Python 3",
   "language": "python",
   "name": "python3"
  },
  "language_info": {
   "codemirror_mode": {
    "name": "ipython",
    "version": 3
   },
   "file_extension": ".py",
   "mimetype": "text/x-python",
   "name": "python",
   "nbconvert_exporter": "python",
   "pygments_lexer": "ipython3",
   "version": "3.7.3"
  }
 },
 "nbformat": 4,
 "nbformat_minor": 4
}
