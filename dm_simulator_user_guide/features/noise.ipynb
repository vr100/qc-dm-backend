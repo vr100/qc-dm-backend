{
 "cells": [
  {
   "cell_type": "markdown",
   "metadata": {},
   "source": [
    "# Noise\n",
    "***"
   ]
  },
  {
   "cell_type": "markdown",
   "metadata": {},
   "source": [
    "#### Options\n",
    "1. rotation error\n",
    "2. tsp error\n",
    "3. decay\n",
    "4. decoheremce\n",
    "5. thermal factor"
   ]
  },
  {
   "cell_type": "markdown",
   "metadata": {},
   "source": [
    "### Incorporating Noise"
   ]
  },
  {
   "cell_type": "code",
   "execution_count": 1,
   "metadata": {},
   "outputs": [],
   "source": [
    "from qiskit import *\n",
    "%matplotlib inline\n",
    "import matplotlib.pyplot as plt"
   ]
  },
  {
   "cell_type": "markdown",
   "metadata": {},
   "source": [
    "Noises can be added in the options which are passed to the backend."
   ]
  },
  {
   "cell_type": "code",
   "execution_count": 2,
   "metadata": {},
   "outputs": [],
   "source": [
    "# The Circuit\n",
    "q = QuantumRegister(3)\n",
    "c = ClassicalRegister(3)\n",
    "qc = QuantumCircuit(q,c)\n",
    "qc.u1(3.6,0)\n",
    "qc.cx(0,1)\n",
    "qc.u1(2.6,2)\n",
    "qc.cx(1,0)\n",
    "qc.s(2)\n",
    "qc.y(2)\n",
    "qc.measure(q,c,basis='Ensemble',add_param='Z')\n",
    "backend = BasicAer.get_backend('dm_simulator')\n",
    "# Noise parameters\n",
    "options = {}\n",
    "options1 = {\n",
    "    \"thermal_factor\": 0.,\n",
    "    \"decoherence_factor\": .9,\n",
    "    \"depolarization_factor\": 0.99,\n",
    "    \"bell_depolarization_factor\": 0.99,\n",
    "    \"decay_factor\": 0.99,\n",
    "    \"rotation_error\": {'rx':[1., 0.], 'ry':[1., 0.], 'rz': [1., 0.]},\n",
    "    \"tsp_model_error\": [1., 0.],\n",
    "    \"plot\": False\n",
    "}\n",
    "# Execution with and without noise\n",
    "run = execute(qc,backend,**options)\n",
    "result = run.result()\n",
    "run_error = execute(qc,backend,**options1)\n",
    "result_error = run_error.result()\n",
    "# Final state (probabilities)\n",
    "prob = result['results'][0]['data']['ensemble_probability']\n",
    "prob1 = result_error['results'][0]['data']['ensemble_probability']"
   ]
  },
  {
   "cell_type": "code",
   "execution_count": 3,
   "metadata": {},
   "outputs": [
    {
     "data": {
      "image/png": "[encoded data removed]",
      "text/plain": [
       "<Figure size 432x288 with 1 Axes>"
      ]
     },
     "metadata": {
      "needs_background": "light"
     },
     "output_type": "display_data"
    }
   ],
   "source": [
    "import numpy as np\n",
    "labels = prob1.keys()\n",
    "without_noise = prob.values()\n",
    "with_noise = prob1.values()\n",
    "\n",
    "x = np.arange(len(labels))  # the label locations\n",
    "width = 0.35  # the width of the bars\n",
    "\n",
    "fig, ax = plt.subplots()\n",
    "rects1 = ax.bar(x - width/2, without_noise, width, label='Without Noise')\n",
    "rects2 = ax.bar(x + width/2, with_noise, width, label='With Noise')\n",
    "\n",
    "# Add some text for labels, title and custom x-axis tick labels, etc.\n",
    "ax.set_ylabel('Probability')\n",
    "ax.set_title('Ensemble Probabilities with Noise')\n",
    "ax.set_xticks(x)\n",
    "ax.set_xticklabels(labels)\n",
    "ax.legend()\n",
    "plt.show()"
   ]
  }
 ],
 "metadata": {
  "kernelspec": {
   "display_name": "Python 3",
   "language": "python",
   "name": "python3"
  },
  "language_info": {
   "codemirror_mode": {
    "name": "ipython",
    "version": 3
   },
   "file_extension": ".py",
   "mimetype": "text/x-python",
   "name": "python",
   "nbconvert_exporter": "python",
   "pygments_lexer": "ipython3",
   "version": "3.7.6"
  }
 },
 "nbformat": 4,
 "nbformat_minor": 4
}
