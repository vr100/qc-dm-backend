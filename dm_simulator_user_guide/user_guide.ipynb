{
 "cells": [
  {
   "cell_type": "markdown",
   "metadata": {},
   "source": [
    "# Qiskit tutorial\n",
    "***"
   ]
  },
  {
   "cell_type": "markdown",
   "metadata": {},
   "source": [
    "This tutorial or user guide aims to explain how to use the new simulator ('dm_simulator') that has been added to existing qiskit backends. The tutorial is only concerned about this new backend. Tutorial related to other backends or qiskit in general can be found [here](https://github.com/Qiskit/qiskit-tutorials). Although a few example to build basic circuits are given."
   ]
  },
  {
   "cell_type": "markdown",
   "metadata": {},
   "source": [
    "## What is dm_simulator\n",
    "dm_simulator is a backend which can be called to execute circuits provided by the user. This backend uses density matrix formalism to calculate the subsequent changes in the qubit state as gates are applied. Density matrix formalism allows one to incorporate environmental noises in a convinient way. A few types of known noise model are implemented and can be invoked while calculation."
   ]
  },
  {
   "cell_type": "markdown",
   "metadata": {},
   "source": [
    "## Basics of Qiskit\n",
    "\n",
    "You can find a tutorial to build basic circuits and how to use dm_simulator backend [here](basics/intro.ipynb)"
   ]
  },
  {
   "cell_type": "markdown",
   "metadata": {},
   "source": [
    "## Features in dm_simulator\n",
    "Couple of new features has been added to this version.\n",
    "\n",
    "1. [Initialisation](features/initialisation.ipynb)\n",
    "2. [Measurement](features/measurement.ipynb)\n",
    "2. [partition](features/partition.ipynb)\n",
    "4. [noise](features/noise.ipynb)\n",
    "5. [visualisation](features/visualisation.ipynb)"
   ]
  }
 ],
 "metadata": {
  "kernelspec": {
   "display_name": "Python 3",
   "language": "python",
   "name": "python3"
  },
  "language_info": {
   "codemirror_mode": {
    "name": "ipython",
    "version": 3
   },
   "file_extension": ".py",
   "mimetype": "text/x-python",
   "name": "python",
   "nbconvert_exporter": "python",
   "pygments_lexer": "ipython3",
   "version": "3.7.3"
  }
 },
 "nbformat": 4,
 "nbformat_minor": 4
}
